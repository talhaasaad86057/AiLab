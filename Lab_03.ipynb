{
  "nbformat": 4,
  "nbformat_minor": 0,
  "metadata": {
    "colab": {
      "provenance": []
    },
    "kernelspec": {
      "name": "python3",
      "display_name": "Python 3"
    },
    "language_info": {
      "name": "python"
    }
  },
  "cells": [
    {
      "cell_type": "code",
      "execution_count": 11,
      "metadata": {
        "colab": {
          "base_uri": "https://localhost:8080/"
        },
        "id": "m0gySEmmrjxu",
        "outputId": "05da803a-7779-4796-d354-c0248013cf86"
      },
      "outputs": [
        {
          "output_type": "stream",
          "name": "stdout",
          "text": [
            "BFS Shortest Path from Peshawar to Karachi: ['Peshawar', 'Hyderabad', 'Karachi']\n",
            "DFS Path from Peshawar to Karachi: ['Peshawar', 'Hyderabad', 'Karachi']\n"
          ]
        }
      ],
      "source": [
        "from collections import deque                               #This task is about today's lab 3\n",
        "                                                            # in which implementations of NFA and DFA occurs\n",
        "                                                            # accross pakistan cities.\n",
        "pakistan_cities = {\n",
        "   'Peshawar': ['Hyderabad'],\n",
        "    'Hyderabad': ['Karachi', 'Sukkur'],\n",
        "    'Sukkur': ['Hyderabad', 'Multan', 'Quetta'],\n",
        "    'Multan': ['Sukkur', 'Lahore'],\n",
        "    'Quetta': ['Sukkur'],\n",
        "    'Lahore': ['Multan', 'Islamabad'],\n",
        "    'Islamabad': ['Lahore', 'Peshawar'],\n",
        "    'karachi': ['Islamabad']\n",
        "}\n",
        "def bfs_shortest_path(graph, start, goal):\n",
        "\n",
        "    queue = deque([[start]])\n",
        "\n",
        "    visited = set()\n",
        "    while queue:\n",
        "\n",
        "        path = queue.popleft()\n",
        "        current_city = path[-1]\n",
        "\n",
        "        if current_city == goal:\n",
        "            return path\n",
        "\n",
        "\n",
        "        if current_city not in visited:\n",
        "            visited.add(current_city)\n",
        "\n",
        "\n",
        "            for neighbor in graph.get(current_city, []):\n",
        "\n",
        "                new_path = list(path)\n",
        "                new_path.append(neighbor)\n",
        "\n",
        "                queue.append(new_path)\n",
        "\n",
        "\n",
        "    return None\n",
        "def dfs_path(graph, start, goal, path=None, visited=None):\n",
        "\n",
        "    \"path starts as an empty list to record the route you take.\"\n",
        "    if path is None:\n",
        "        path = []\n",
        "        \"visited starts as an empty set to remember visited places so you don't repeat them.\"\n",
        "    if visited is None:\n",
        "        visited = set()\n",
        "\n",
        "\n",
        "    path.append(start)\n",
        "\n",
        "    visited.add(start)\n",
        "\n",
        "\n",
        "    if start == goal:\n",
        "        return path\n",
        "\n",
        "    for neighbor in graph.get(start, []):\n",
        "        if neighbor not in visited:\n",
        "\n",
        "            result = dfs_path(graph, neighbor, goal, path.copy(), visited.copy())\n",
        "\n",
        "\n",
        "            if result:\n",
        "                return result\n",
        "\n",
        "    return None\n",
        "\n",
        "\n",
        "start_city = \"Peshawar\"\n",
        "goal_city = \"Karachi\"\n",
        "\n",
        "bfs_result = bfs_shortest_path(pakistan_cities, start_city, goal_city)\n",
        "print(\"BFS Shortest Path from Peshawar to Karachi:\", bfs_result)\n",
        "\n",
        "dfs_result = dfs_path(pakistan_cities, start_city, goal_city)\n",
        "print(\"DFS Path from Peshawar to Karachi:\", dfs_result)\n",
        "\n",
        "\n",
        "\n"
      ]
    }
  ]
}