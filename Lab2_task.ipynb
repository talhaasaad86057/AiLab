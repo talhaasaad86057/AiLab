{
  "nbformat": 4,
  "nbformat_minor": 0,
  "metadata": {
    "colab": {
      "provenance": []
    },
    "kernelspec": {
      "name": "python3",
      "display_name": "Python 3"
    },
    "language_info": {
      "name": "python"
    }
  },
  "cells": [
    {
      "cell_type": "code",
      "execution_count": 13,
      "metadata": {
        "colab": {
          "base_uri": "https://localhost:8080/"
        },
        "id": "N910S9jkm7TK",
        "outputId": "3ef4e81a-e8e6-49a3-b6db-2862f0ad7b1a"
      },
      "outputs": [
        {
          "output_type": "stream",
          "name": "stdout",
          "text": [
            "List of numbers: [12, 45, 7, 89, 23, 56, 3, 78, 34, 10]\n",
            "Sum: 357\n",
            "Maximum: 89\n",
            "Minimum: 3\n",
            "Updated list: [45, 7, 89, 23, 56, 3, 78, 34, 10, 20]\n",
            "Ascending: [3, 7, 10, 20, 23, 34, 45, 56, 78, 89]\n",
            "Decending: [89, 78, 56, 45, 34, 23, 20, 10, 7, 3]\n",
            "Second element: banana\n",
            "last element: grape\n",
            "Modified tuple: ('mango', 'grape', 'orange')\n",
            "Set 1: {1, 2, 3, 4, 5}\n",
            "Set 2: {4, 5, 6, 7, 8}\n",
            "Union: {1, 2, 3, 4, 5, 6, 7, 8}\n",
            "Intersection: {4, 5}\n",
            "Difference (set1 - set2): {1, 2, 3}\n"
          ]
        }
      ],
      "source": [
        "numbers = [12, 45, 7, 89, 23, 56, 3, 78, 34, 10]\n",
        "\n",
        "\n",
        "total_sum = sum(numbers)\n",
        "maximum = max(numbers)\n",
        "minimum = min(numbers)\n",
        "\n",
        "print(\"List of numbers:\", numbers)\n",
        "print(\"Sum:\", total_sum)\n",
        "print(\"Maximum:\", maximum)\n",
        "print(\"Minimum:\", minimum)\n",
        "\n",
        "#Add and remove element\n",
        "numbers.append(20)\n",
        "numbers.remove(12)\n",
        "print('Updated list:',numbers)\n",
        "\n",
        "# acending and decending\n",
        "print('Ascending:',sorted(numbers))\n",
        "print('Decending:',sorted(numbers,reverse=True))\n",
        "\n",
        "\n",
        "\n",
        "\n",
        "\n",
        "\n",
        "\n"
      ]
    },
    {
      "cell_type": "markdown",
      "source": [
        "Matplolib"
      ],
      "metadata": {
        "id": "BmwwYutNnolZ"
      }
    },
    {
      "cell_type": "code",
      "source": [],
      "metadata": {
        "id": "Z9M1w2Kp48Pi"
      },
      "execution_count": null,
      "outputs": []
    },
    {
      "cell_type": "markdown",
      "source": [
        "Numpy"
      ],
      "metadata": {
        "id": "9LTZrFYWny3b"
      }
    },
    {
      "cell_type": "markdown",
      "source": [
        "List\n",
        "\n"
      ],
      "metadata": {
        "id": "tjAcB2Rwn0vv"
      }
    },
    {
      "cell_type": "markdown",
      "source": [
        "Tuple"
      ],
      "metadata": {
        "id": "d6W2WN0vn3J3"
      }
    },
    {
      "cell_type": "code",
      "source": [
        "#create a tuple\n",
        "fruits = ('apple','banana','grape')\n",
        "print('Second element:',fruits[1])\n",
        "print('last element:',fruits[-1])\n",
        "\n",
        "#modifying the tuple now\n",
        "fruits_list = list(fruits)\n",
        "fruits_list.append('orange')\n",
        "fruits_list[1] = 'mango'\n",
        "fruits_list.remove('apple')\n",
        "\n",
        "# Convert back to tuple\n",
        "fruits = tuple(fruits_list)\n",
        "print('Modified tuple:', fruits)"
      ],
      "metadata": {
        "colab": {
          "base_uri": "https://localhost:8080/"
        },
        "id": "Wfr9go0F5grK",
        "outputId": "345b804c-d703-4e72-b282-de9644f1fa36"
      },
      "execution_count": 15,
      "outputs": [
        {
          "output_type": "stream",
          "name": "stdout",
          "text": [
            "Second element: banana\n",
            "last element: grape\n",
            "Modified tuple: ('mango', 'grape', 'orange')\n"
          ]
        }
      ]
    },
    {
      "cell_type": "markdown",
      "source": [
        "Set"
      ],
      "metadata": {
        "id": "3dhn7qykn8-Q"
      }
    },
    {
      "cell_type": "code",
      "source": [
        "# Create two sets(list Question # 01)\n",
        "set1 = {1, 2, 3, 4, 5}\n",
        "set2 = {4, 5, 6, 7, 8}\n",
        "\n",
        "print(\"Set 1:\", set1)\n",
        "print(\"Set 2:\", set2)\n",
        "\n",
        "# Union (all unique elements from both sets)\n",
        "print(\"Union:\", set1 | set2)           # or set1.union(set2)\n",
        "\n",
        "# Intersection (common elements)\n",
        "print(\"Intersection:\", set1 & set2)    # or set1.intersection(set2)\n",
        "\n",
        "# Difference (elements in set1 but not in set2)\n",
        "print(\"Difference (set1 - set2):\", set1 - set2)\n",
        "\n",
        "\n",
        "\n",
        "# Create a set ( Question # 02)\n",
        "\n",
        "my_set = {1, 2, 3, 4, 5}\n",
        "print(\"Original Set:\", my_set)\n",
        "\n",
        "# Add a new element\n",
        "my_set.add(10)   # adds 10 to the set\n",
        "print(\"After Adding 10:\", my_set)\n",
        "\n",
        "# Remove an existing element\n",
        "my_set.remove(3)   # removes element 3\n",
        "print(\"After Removing 3:\", my_set)"
      ],
      "metadata": {
        "colab": {
          "base_uri": "https://localhost:8080/"
        },
        "id": "hCrgNRsE5KlM",
        "outputId": "ba2390ca-2ffa-4f80-a5d6-515b87f31e79"
      },
      "execution_count": 18,
      "outputs": [
        {
          "output_type": "stream",
          "name": "stdout",
          "text": [
            "Set 1: {1, 2, 3, 4, 5}\n",
            "Set 2: {4, 5, 6, 7, 8}\n",
            "Union: {1, 2, 3, 4, 5, 6, 7, 8}\n",
            "Intersection: {4, 5}\n",
            "Difference (set1 - set2): {1, 2, 3}\n",
            "Original Set: {1, 2, 3, 4, 5}\n",
            "After Adding 10: {1, 2, 3, 4, 5, 10}\n",
            "After Removing 3: {1, 2, 4, 5, 10}\n"
          ]
        }
      ]
    },
    {
      "cell_type": "markdown",
      "source": [
        "Dictionary"
      ],
      "metadata": {
        "id": "MmIExn4G8B0X"
      }
    },
    {
      "cell_type": "code",
      "source": [
        "# Create dictionary with 5 key-value pairs\n",
        "students = {\n",
        "    \"Ali\": 85,\n",
        "    \"Sara\": 92,\n",
        "    \"Bilal\": 76,\n",
        "    \"Ayesha\": 89,\n",
        "    \"Hamza\": 95\n",
        "}\n",
        "\n",
        "# Print dictionary\n",
        "print(\"Student Marks:\", students)\n"
      ],
      "metadata": {
        "colab": {
          "base_uri": "https://localhost:8080/"
        },
        "id": "O_uC3WT78JQH",
        "outputId": "a511a9fa-c8ed-498f-ce94-93fd9ca99d92"
      },
      "execution_count": 19,
      "outputs": [
        {
          "output_type": "stream",
          "name": "stdout",
          "text": [
            "Student Marks: {'Ali': 85, 'Sara': 92, 'Bilal': 76, 'Ayesha': 89, 'Hamza': 95}\n"
          ]
        }
      ]
    }
  ]
}